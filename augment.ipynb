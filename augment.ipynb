{
 "cells": [
  {
   "cell_type": "code",
   "execution_count": 14,
   "metadata": {},
   "outputs": [
    {
     "name": "stdout",
     "output_type": "stream",
     "text": [
      "Light subtle data augmentation complete. Augmented images saved in: tester2\n"
     ]
    }
   ],
   "source": [
    "import os\n",
    "import cv2\n",
    "import numpy as np\n",
    "import tensorflow as tf\n",
    "from tensorflow.keras.preprocessing.image import ImageDataGenerator\n",
    "\n",
    "# Define paths\n",
    "input_folder = 'auger'  # Change to your input folder\n",
    "output_folder = 'tester2'  # Change to your output folder\n",
    "\n",
    "# Create output folder if it doesn't exist\n",
    "if not os.path.exists(output_folder):\n",
    "    os.makedirs(output_folder)\n",
    "\n",
    "# Initialize the ImageDataGenerator for light augmentations\n",
    "datagen = ImageDataGenerator(\n",
    "    rotation_range=40,         # Rotate images up to 10 degrees\n",
    "    width_shift_range=0.10,    # Shift images horizontally by 5%\n",
    "    height_shift_range=0.10,   # Shift images vertically by 5%\n",
    "    shear_range=0.1,           # Shear angle in counter-clockwise direction\n",
    "    zoom_range=0.1,            # Zoom in or out by 10%\n",
    "    horizontal_flip=True, \n",
    "    vertical_flip = True,     # Avoid horizontal flips for leaf images\n",
    "    fill_mode='nearest'        # Fill missing pixels with the nearest pixel value\n",
    ")\n",
    "\n",
    "# Process each image in the input folder\n",
    "for filename in os.listdir(input_folder):\n",
    "    if filename.endswith('.jpg') or filename.endswith('.png') or filename.endswith('.JPG'):  # Adjust file types if needed\n",
    "        img_path = os.path.join(input_folder, filename)\n",
    "        img = cv2.imread(img_path)\n",
    "        img = cv2.cvtColor(img, cv2.COLOR_BGR2RGB)  # Convert BGR to RGB\n",
    "        img = np.expand_dims(img, axis=0)  # Add batch dimension\n",
    "\n",
    "        # Generate augmented images\n",
    "        i = 0\n",
    "        for batch in datagen.flow(img, batch_size=1, save_to_dir=output_folder,\n",
    "                                   save_prefix='aug', save_format='jpg'):\n",
    "            i += 1\n",
    "            if i >= 4:  # Generate 5 augmented images per original image\n",
    "                break\n",
    "\n",
    "print(\"Light subtle data augmentation complete. Augmented images saved in:\", output_folder)\n"
   ]
  },
  {
   "cell_type": "code",
   "execution_count": null,
   "metadata": {},
   "outputs": [],
   "source": []
  }
 ],
 "metadata": {
  "kernelspec": {
   "display_name": "Python 3",
   "language": "python",
   "name": "python3"
  },
  "language_info": {
   "codemirror_mode": {
    "name": "ipython",
    "version": 3
   },
   "file_extension": ".py",
   "mimetype": "text/x-python",
   "name": "python",
   "nbconvert_exporter": "python",
   "pygments_lexer": "ipython3",
   "version": "3.12.5"
  }
 },
 "nbformat": 4,
 "nbformat_minor": 2
}
